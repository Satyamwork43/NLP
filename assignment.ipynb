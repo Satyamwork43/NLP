{
  "nbformat": 4,
  "nbformat_minor": 0,
  "metadata": {
    "colab": {
      "name": "assignment.ipynb",
      "provenance": []
    },
    "kernelspec": {
      "name": "python3",
      "display_name": "Python 3"
    },
    "language_info": {
      "name": "python"
    }
  },
  "cells": [
    {
      "cell_type": "markdown",
      "metadata": {
        "id": "IFwXVmoJdznD"
      },
      "source": [
        "#Importing Library"
      ]
    },
    {
      "cell_type": "code",
      "metadata": {
        "id": "IG2CwNgt9QIc"
      },
      "source": [
        "import spacy\n",
        "from spacy import displacy\n",
        "import ramdom\n",
        "from spacy.util import minibatch,compounding"
      ],
      "execution_count": 15,
      "outputs": []
    },
    {
      "cell_type": "code",
      "metadata": {
        "colab": {
          "base_uri": "https://localhost:8080/"
        },
        "id": "jxbt32QS9dxk",
        "outputId": "ed9f45b2-31b8-4299-ddb9-15c8f5911394"
      },
      "source": [
        "nlp=spacy.load('en_core_web_sm')\n",
        "nlp.pipe_names"
      ],
      "execution_count": 16,
      "outputs": [
        {
          "output_type": "execute_result",
          "data": {
            "text/plain": [
              "['tagger', 'parser', 'ner']"
            ]
          },
          "metadata": {},
          "execution_count": 16
        }
      ]
    },
    {
      "cell_type": "code",
      "metadata": {
        "id": "3vqY3jP7ABSX"
      },
      "source": [
        "ner=nlp.get_pipe('ner')"
      ],
      "execution_count": 17,
      "outputs": []
    },
    {
      "cell_type": "markdown",
      "metadata": {
        "id": "GgonozG1d6PC"
      },
      "source": [
        "#Creating a custom dataset"
      ]
    },
    {
      "cell_type": "code",
      "metadata": {
        "id": "_4fDhtzIAQMW"
      },
      "source": [
        "TRAIN_DATA=[\n",
        "            (\"I want to buy new shoes from amazon at cheap price.\",\n",
        "                  {\"entities\": [(18, 23, \"PRODUCT\"),\n",
        "                                (29, 35, \"BRAND\"),\n",
        "                                (39, 44, \"SERVICE\")]}),\n",
        "                 (\"I am looking for brand new expensive near Noida\",\n",
        "                  {\"entities\": [(27, 33, \"PRODUCT\"), (34, 43, \"SERVICE\"),(43,53,\"LOCATION\")]}),\n",
        "                 (\"I want to replace my watch at affordable price near Sarojini Nagar\",\n",
        "                  {\"entities\": [(21, 26, \"PRODUCT\"), (30, 40, \"SERVICE\"),(46,65,\"LOCATION\")]}),\n",
        "                 (\"I am looking for some groceries at cheap price\",\n",
        "                  {\"entities\": [(22, 31, \"PRODUCT\"),\n",
        "                                (35, 40, \"SERVICE\")]}),\n",
        "                 (\"I want to buy a used car\",\n",
        "                  {\"entities\":[(21,23,\"PRODUCT\")]}),\n",
        "                 (\"some product are cheap some are expensive some are affordable near Noida\",\n",
        "                  {\"entities\":[(17,22,\"SERVICE\"),(32,41,\"SERVICE\"),(51,60,\"SERVICE\"),(61,71,\"LOCATION\")]}),\n",
        "                 (\"Popular locations in Noida Sector 10\",\n",
        "                  {\"entities\":[(17,25,\"LOCATION\")]}),\n",
        "                 (\"good adidas shoes at cheap price\",\n",
        "                  {\"entities\":[(5,11,\"BRAND\"),(12,17,\"PRODUCT\"),(21,26,\"SERVICE\")]}),\n",
        "                 (\"i would love to have a pizza right now\",\n",
        "                  {\"entities\":[(23,28,\"PRODUCT\")]}),\n",
        "                 (\"Is there any affordable bike service near me\",\n",
        "                  {\"entities\":[(13,23,\"SERVICE\"),(24,28,\"PRODUCT\")]}),\n",
        "                 (\"Where i can buy a furniture\",\n",
        "                  {\"entities\":[(18,26,\"PRODUCT\")]}),\n",
        "                 (\"where i can buy a good home furniture at cheap price\",\n",
        "                  {\"entities\":[(28,37,\"PRODUCT\"),(41,46,\"SERVICE\")]}),\n",
        "                 (\"any laptop seller near kalkaji\",\n",
        "                  {\"entities\":[(4,10,\"PRODUCT\"),(17,29,\"LOCATION\")]}),\n",
        "                 (\"any hospital near mathura\",\n",
        "                  {\"entities\":[(12,24,\"LOCATION\")]}),\n",
        "                 (\"i want to go to party\",\n",
        "                  {\"entities\":[(16,20,\"LOCATION\")]}),\n",
        "                 ('I have lost my wallet need to lodge a complaint.',\n",
        "                  {'entities':[(15,21,\"PRODUCT\")]}),\n",
        "                 (\"affordable furniture at amazon\",\n",
        "                  {'entities':[(0,9,\"SERVICE\"),(10,19,\"PRODUCT\"),(23,29,\"BRAND\")]}),\n",
        "                 (\"Can i get some good product near Delhi\",\n",
        "                  {'entities':[(27,37,\"LOCATION\")]}),\n",
        "                 (\"expensive product near Noida\",\n",
        "                  {'entities':[(27,37,\"LOCATION\")]}),\n",
        "                 (\"is there any amazon shop in Noida\",\n",
        "                  {'entities':[(12,18,\"BRAND\"),(24,32,\"LOCATION\")]}),\n",
        "                 (\"any affordable shop in Noida\",\n",
        "                  {'entities':[(3,13,\"SERVICE\"),(19,27,\"LOCATION\")]}),\n",
        "                 (\"i am looking for a cheap shoes that i can find near to Noida so i dont have to go to amazon\",\n",
        "                  {'entities':[(18,23,\"SERVICE\"),(24,29,\"PRODUCT\"),(46,59,\"LOCATION\")]})\n",
        "                 \n",
        "]"
      ],
      "execution_count": 18,
      "outputs": []
    },
    {
      "cell_type": "markdown",
      "metadata": {
        "id": "LP_B18WheEkS"
      },
      "source": [
        "**Now here i have created a custom dataset according to the mail because on internet i was not able to find this type of dataset that can relate this work**"
      ]
    },
    {
      "cell_type": "code",
      "metadata": {
        "id": "MNmdpcanWNOE"
      },
      "source": [
        "for _,annotation in TRAIN_DATA:\n",
        "  for ent in annotation.get('entities'):\n",
        "    ner.add_label(ent[2])"
      ],
      "execution_count": 19,
      "outputs": []
    },
    {
      "cell_type": "code",
      "metadata": {
        "id": "hBdRdVfwWPPh"
      },
      "source": [
        "pipe_want=['ner','trf_wordpiecer','trf_tok2vec']\n",
        "use_pipe=[pipe for pipe in nlp.pipe_names if pipe not in pipe_want]"
      ],
      "execution_count": 20,
      "outputs": []
    },
    {
      "cell_type": "markdown",
      "metadata": {
        "id": "0n62tRTJeBX8"
      },
      "source": [
        "#Training model"
      ]
    },
    {
      "cell_type": "code",
      "metadata": {
        "id": "rj7BlEuHWRZz"
      },
      "source": [
        "with nlp.disable_pipes(*use_pipe):\n",
        "  for interation in range(30):\n",
        "    random.shuffle(TRAIN_DATA)\n",
        "    losse={}\n",
        "    batches=minibatch(TRAIN_DATA,size=compounding(4.0,32.0,1.001))\n",
        "    for batch in batches:\n",
        "      texts,annotation=zip(*batch)\n",
        "      nlp.update(texts,annotation,\n",
        "                 drop=0.25,\n",
        "                 losses=losse)"
      ],
      "execution_count": null,
      "outputs": []
    },
    {
      "cell_type": "code",
      "metadata": {
        "colab": {
          "base_uri": "https://localhost:8080/"
        },
        "id": "AuGb7_BFZ33n",
        "outputId": "2b45222b-9f29-448b-cafe-71acdf4837a6"
      },
      "source": [
        "doc=nlp('is ther any coffe shop near Noida')\n",
        "for ent in doc.ents:\n",
        "  print(ent.text,ent.label_)"
      ],
      "execution_count": 26,
      "outputs": [
        {
          "output_type": "stream",
          "name": "stdout",
          "text": [
            "coffe PRODUCT\n",
            "Noida GPE\n"
          ]
        }
      ]
    },
    {
      "cell_type": "code",
      "metadata": {
        "colab": {
          "base_uri": "https://localhost:8080/",
          "height": 68
        },
        "id": "Rtbqrw2nWUBu",
        "outputId": "03dbdd25-7db3-4e54-9db7-b74e407f6482"
      },
      "source": [
        "docs=nlp('where i can get affordable furniture shop')\n",
        "for ent in docs.ents:\n",
        "  print(ent.text,ent.start_char,ent.end_char,ent.label_)\n",
        "displacy.render(nlp(docs.text),style='ent',jupyter=True)"
      ],
      "execution_count": 30,
      "outputs": [
        {
          "output_type": "stream",
          "name": "stdout",
          "text": [
            "furniture 27 36 PRODUCT\n"
          ]
        },
        {
          "output_type": "display_data",
          "data": {
            "text/html": [
              "<span class=\"tex2jax_ignore\"><div class=\"entities\" style=\"line-height: 2.5; direction: ltr\">where i can get affordable \n",
              "<mark class=\"entity\" style=\"background: #bfeeb7; padding: 0.45em 0.6em; margin: 0 0.25em; line-height: 1; border-radius: 0.35em;\">\n",
              "    furniture\n",
              "    <span style=\"font-size: 0.8em; font-weight: bold; line-height: 1; border-radius: 0.35em; text-transform: uppercase; vertical-align: middle; margin-left: 0.5rem\">PRODUCT</span>\n",
              "</mark>\n",
              " shop</div></span>"
            ],
            "text/plain": [
              "<IPython.core.display.HTML object>"
            ]
          },
          "metadata": {}
        }
      ]
    },
    {
      "cell_type": "markdown",
      "metadata": {
        "id": "jmnd-X37eTQs"
      },
      "source": [
        "**As i have a small dataset i am getting normal aacuracy but if i might have a good dataset i could get a better accuracy and for that we can use the chats options that we have in the company or we can generate api to get the dataset**"
      ]
    },
    {
      "cell_type": "code",
      "metadata": {
        "colab": {
          "base_uri": "https://localhost:8080/",
          "height": 68
        },
        "id": "CzCtDUxFdolm",
        "outputId": "8217ecaf-7271-4ffa-ace0-80d0dd68750d"
      },
      "source": [
        "docs=nlp('i want a cheap shoe or any type of furniture near Delhi')\n",
        "for ent in docs.ents:\n",
        "  print(ent.text,ent.start_char,ent.end_char,ent.label_)\n",
        "displacy.render(nlp(str(docs.text)),style='ent',jupyter=True)"
      ],
      "execution_count": 33,
      "outputs": [
        {
          "output_type": "stream",
          "name": "stdout",
          "text": [
            "Delhi 50 55 GPE\n"
          ]
        },
        {
          "output_type": "display_data",
          "data": {
            "text/html": [
              "<span class=\"tex2jax_ignore\"><div class=\"entities\" style=\"line-height: 2.5; direction: ltr\">i want a cheap shoe or any type of furniture near \n",
              "<mark class=\"entity\" style=\"background: #feca74; padding: 0.45em 0.6em; margin: 0 0.25em; line-height: 1; border-radius: 0.35em;\">\n",
              "    Delhi\n",
              "    <span style=\"font-size: 0.8em; font-weight: bold; line-height: 1; border-radius: 0.35em; text-transform: uppercase; vertical-align: middle; margin-left: 0.5rem\">GPE</span>\n",
              "</mark>\n",
              "</div></span>"
            ],
            "text/plain": [
              "<IPython.core.display.HTML object>"
            ]
          },
          "metadata": {}
        }
      ]
    },
    {
      "cell_type": "code",
      "metadata": {
        "colab": {
          "base_uri": "https://localhost:8080/"
        },
        "id": "RzRmtk43dIgK",
        "outputId": "4eb9c330-4c65-4cb0-b62d-b979921f90fe"
      },
      "source": [
        "import re\n",
        "expression=r\"near(.*)$\"\n",
        "for match in re.finditer(expression,docs.text):\n",
        "  start,end=match.span()\n",
        "  span=docs.char_span(start,end)\n",
        "  if span is not None:\n",
        "    print(\"Location\",span[1].text)"
      ],
      "execution_count": 34,
      "outputs": [
        {
          "output_type": "stream",
          "name": "stdout",
          "text": [
            "Location Delhi\n"
          ]
        }
      ]
    },
    {
      "cell_type": "markdown",
      "metadata": {
        "id": "mnsYsFJYeyP2"
      },
      "source": [
        "**With the help of this regex we can extract the location which are like near to or in or around**"
      ]
    }
  ]
}