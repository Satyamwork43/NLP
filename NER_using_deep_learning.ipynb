{
  "nbformat": 4,
  "nbformat_minor": 0,
  "metadata": {
    "colab": {
      "name": "NER using deep learning.ipynb",
      "provenance": []
    },
    "kernelspec": {
      "name": "python3",
      "display_name": "Python 3"
    },
    "language_info": {
      "name": "python"
    }
  },
  "cells": [
    {
      "cell_type": "code",
      "metadata": {
        "id": "oIf0wCIkb7NT"
      },
      "source": [
        "import numpy as np\n",
        "import pandas as pd"
      ],
      "execution_count": 1,
      "outputs": []
    },
    {
      "cell_type": "code",
      "metadata": {
        "id": "nsBY0RpddM9_"
      },
      "source": [
        "df=pd.read_csv('/content/name_entity.csv',encoding='latin1')"
      ],
      "execution_count": 2,
      "outputs": []
    },
    {
      "cell_type": "code",
      "metadata": {
        "id": "KdCy_58hdn2F"
      },
      "source": [
        "df.fillna(method='ffill',inplace=True)"
      ],
      "execution_count": 3,
      "outputs": []
    },
    {
      "cell_type": "code",
      "metadata": {
        "colab": {
          "base_uri": "https://localhost:8080/",
          "height": 204
        },
        "id": "dbNnkGvajZtL",
        "outputId": "da7f5aa3-48e6-4be4-a23f-8c632a804ef8"
      },
      "source": [
        "df.head()"
      ],
      "execution_count": 4,
      "outputs": [
        {
          "output_type": "execute_result",
          "data": {
            "text/html": [
              "<div>\n",
              "<style scoped>\n",
              "    .dataframe tbody tr th:only-of-type {\n",
              "        vertical-align: middle;\n",
              "    }\n",
              "\n",
              "    .dataframe tbody tr th {\n",
              "        vertical-align: top;\n",
              "    }\n",
              "\n",
              "    .dataframe thead th {\n",
              "        text-align: right;\n",
              "    }\n",
              "</style>\n",
              "<table border=\"1\" class=\"dataframe\">\n",
              "  <thead>\n",
              "    <tr style=\"text-align: right;\">\n",
              "      <th></th>\n",
              "      <th>Sentence #</th>\n",
              "      <th>Word</th>\n",
              "      <th>POS</th>\n",
              "      <th>Tag</th>\n",
              "    </tr>\n",
              "  </thead>\n",
              "  <tbody>\n",
              "    <tr>\n",
              "      <th>0</th>\n",
              "      <td>Sentence: 1</td>\n",
              "      <td>Thousands</td>\n",
              "      <td>NNS</td>\n",
              "      <td>O</td>\n",
              "    </tr>\n",
              "    <tr>\n",
              "      <th>1</th>\n",
              "      <td>Sentence: 1</td>\n",
              "      <td>of</td>\n",
              "      <td>IN</td>\n",
              "      <td>O</td>\n",
              "    </tr>\n",
              "    <tr>\n",
              "      <th>2</th>\n",
              "      <td>Sentence: 1</td>\n",
              "      <td>demonstrators</td>\n",
              "      <td>NNS</td>\n",
              "      <td>O</td>\n",
              "    </tr>\n",
              "    <tr>\n",
              "      <th>3</th>\n",
              "      <td>Sentence: 1</td>\n",
              "      <td>have</td>\n",
              "      <td>VBP</td>\n",
              "      <td>O</td>\n",
              "    </tr>\n",
              "    <tr>\n",
              "      <th>4</th>\n",
              "      <td>Sentence: 1</td>\n",
              "      <td>marched</td>\n",
              "      <td>VBN</td>\n",
              "      <td>O</td>\n",
              "    </tr>\n",
              "  </tbody>\n",
              "</table>\n",
              "</div>"
            ],
            "text/plain": [
              "    Sentence #           Word  POS Tag\n",
              "0  Sentence: 1      Thousands  NNS   O\n",
              "1  Sentence: 1             of   IN   O\n",
              "2  Sentence: 1  demonstrators  NNS   O\n",
              "3  Sentence: 1           have  VBP   O\n",
              "4  Sentence: 1        marched  VBN   O"
            ]
          },
          "metadata": {
            "tags": []
          },
          "execution_count": 4
        }
      ]
    },
    {
      "cell_type": "code",
      "metadata": {
        "colab": {
          "base_uri": "https://localhost:8080/"
        },
        "id": "0IaWWynhds0k",
        "outputId": "0651dab6-dc0c-4131-f3f3-4f3487808332"
      },
      "source": [
        "words=list(set(df['Word']))\n",
        "words[:10]"
      ],
      "execution_count": 5,
      "outputs": [
        {
          "output_type": "execute_result",
          "data": {
            "text/plain": [
              "['re-sales',\n",
              " 'prevention',\n",
              " 'decreed',\n",
              " 'contributes',\n",
              " 'Guards',\n",
              " 'church',\n",
              " 'pulling',\n",
              " 'secretive',\n",
              " 'colonists',\n",
              " 'reservists']"
            ]
          },
          "metadata": {
            "tags": []
          },
          "execution_count": 5
        }
      ]
    },
    {
      "cell_type": "code",
      "metadata": {
        "colab": {
          "base_uri": "https://localhost:8080/"
        },
        "id": "RYqxR55DecV9",
        "outputId": "937c020d-3f5c-4475-84ae-23fdb49d772d"
      },
      "source": [
        "n_words=len(words)\n",
        "n_words"
      ],
      "execution_count": 6,
      "outputs": [
        {
          "output_type": "execute_result",
          "data": {
            "text/plain": [
              "9578"
            ]
          },
          "metadata": {
            "tags": []
          },
          "execution_count": 6
        }
      ]
    },
    {
      "cell_type": "code",
      "metadata": {
        "colab": {
          "base_uri": "https://localhost:8080/"
        },
        "id": "i3vaSrcIep2Z",
        "outputId": "3d624f11-0505-4c09-9662-0bfebd007dd5"
      },
      "source": [
        "tags=list(set(df['Tag']))\n",
        "tags[:10]"
      ],
      "execution_count": 7,
      "outputs": [
        {
          "output_type": "execute_result",
          "data": {
            "text/plain": [
              "['I-geo',\n",
              " 'B-nat',\n",
              " 'B-art',\n",
              " 'I-art',\n",
              " 'O',\n",
              " 'B-geo',\n",
              " 'B-org',\n",
              " 'I-eve',\n",
              " 'B-per',\n",
              " 'I-tim']"
            ]
          },
          "metadata": {
            "tags": []
          },
          "execution_count": 7
        }
      ]
    },
    {
      "cell_type": "code",
      "metadata": {
        "id": "9k8wiFC-e0mv"
      },
      "source": [
        "n_tags=len(tags)"
      ],
      "execution_count": 8,
      "outputs": []
    },
    {
      "cell_type": "code",
      "metadata": {
        "colab": {
          "base_uri": "https://localhost:8080/"
        },
        "id": "y0Y2BDRTfAna",
        "outputId": "d737fc12-fc9e-4ae7-f76d-c398e521f04c"
      },
      "source": [
        "n_tags"
      ],
      "execution_count": 9,
      "outputs": [
        {
          "output_type": "execute_result",
          "data": {
            "text/plain": [
              "17"
            ]
          },
          "metadata": {
            "tags": []
          },
          "execution_count": 9
        }
      ]
    },
    {
      "cell_type": "code",
      "metadata": {
        "id": "L-oSHMPcfCPK"
      },
      "source": [
        "class GetSentence(object):\n",
        "  def __init__ (self,data):\n",
        "    self.n_sentence=1\n",
        "    self.data=data\n",
        "    self.empty=False\n",
        "    function=lambda d:[(w,p,t) for w,p,t in zip(d['Word'].values.tolist(),\n",
        "                                                d['POS'].values.tolist(),\n",
        "                                                d['Tag'].values.tolist())]\n",
        "                    \n",
        "    self.group_sent=self.data.groupby('Sentence #').apply(function)\n",
        "    self.all_sentences=[d for d in self.group_sent]"
      ],
      "execution_count": 10,
      "outputs": []
    },
    {
      "cell_type": "code",
      "metadata": {
        "id": "CDWeOQ0cgV5H"
      },
      "source": [
        "get=GetSentence(df)\n",
        "sentences=get.all_sentences"
      ],
      "execution_count": 11,
      "outputs": []
    },
    {
      "cell_type": "code",
      "metadata": {
        "colab": {
          "base_uri": "https://localhost:8080/"
        },
        "id": "EQzXqqqAgtHz",
        "outputId": "704391b1-fc21-4a5c-f4b4-4d8229e2774d"
      },
      "source": [
        "maxl=max([len(s) for s in sentences])\n",
        "print('Maximum length of sentence:',maxl)"
      ],
      "execution_count": 12,
      "outputs": [
        {
          "output_type": "stream",
          "text": [
            "Maximum length of sentence: 70\n"
          ],
          "name": "stdout"
        }
      ]
    },
    {
      "cell_type": "code",
      "metadata": {
        "id": "tKHMqYgyhM3v"
      },
      "source": [
        "w_index={w:i for i,w in enumerate(words)}\n",
        "t_index={t:j for j,t in enumerate(tags)}"
      ],
      "execution_count": 13,
      "outputs": []
    },
    {
      "cell_type": "code",
      "metadata": {
        "id": "LPyRl_-Gkiv9"
      },
      "source": [
        "from keras.preprocessing.sequence import pad_sequences"
      ],
      "execution_count": 14,
      "outputs": []
    },
    {
      "cell_type": "code",
      "metadata": {
        "id": "DAml4l7ZkA37"
      },
      "source": [
        "X=[[w_index[w[0]] for w in s] for s in sentences]\n",
        "X=pad_sequences(sequences=X,maxlen=maxl,padding='pre')"
      ],
      "execution_count": 15,
      "outputs": []
    },
    {
      "cell_type": "code",
      "metadata": {
        "id": "_YoV9JvckS35"
      },
      "source": [
        "Y=[[t_index[t[2]] for t in s] for s in sentences]\n",
        "Y=pad_sequences(sequences=Y,maxlen=maxl,padding='pre')"
      ],
      "execution_count": 16,
      "outputs": []
    },
    {
      "cell_type": "code",
      "metadata": {
        "colab": {
          "base_uri": "https://localhost:8080/"
        },
        "id": "bTYQWoL3k9f6",
        "outputId": "8d6eb94b-b3fa-4b02-a76f-cca029bbb46f"
      },
      "source": [
        "Y"
      ],
      "execution_count": 17,
      "outputs": [
        {
          "output_type": "execute_result",
          "data": {
            "text/plain": [
              "array([[0, 0, 0, ..., 4, 4, 4],\n",
              "       [0, 0, 0, ..., 4, 4, 4],\n",
              "       [0, 0, 0, ..., 5, 0, 4],\n",
              "       ...,\n",
              "       [0, 0, 0, ..., 4, 4, 4],\n",
              "       [0, 0, 0, ..., 4, 4, 4],\n",
              "       [0, 0, 0, ..., 4, 5, 4]], dtype=int32)"
            ]
          },
          "metadata": {
            "tags": []
          },
          "execution_count": 17
        }
      ]
    },
    {
      "cell_type": "code",
      "metadata": {
        "id": "84pqq0r_k-go"
      },
      "source": [
        "from sklearn.model_selection import train_test_split"
      ],
      "execution_count": 18,
      "outputs": []
    },
    {
      "cell_type": "code",
      "metadata": {
        "id": "jyu3S5CslN_y"
      },
      "source": [
        "X_train,X_test,y_train,y_test=train_test_split(X,Y,test_size=0.3,random_state=42)"
      ],
      "execution_count": 19,
      "outputs": []
    },
    {
      "cell_type": "code",
      "metadata": {
        "id": "aiX_j69DlZ9O"
      },
      "source": [
        "from keras.utils import to_categorical"
      ],
      "execution_count": 20,
      "outputs": []
    },
    {
      "cell_type": "code",
      "metadata": {
        "colab": {
          "base_uri": "https://localhost:8080/"
        },
        "id": "UDWgvJETloY5",
        "outputId": "1216ccdf-1714-4a01-ea3b-aee28e058c98"
      },
      "source": [
        "y_train=to_categorical(y_train)\n",
        "print(y_train.shape)"
      ],
      "execution_count": 21,
      "outputs": [
        {
          "output_type": "stream",
          "text": [
            "(2494, 70, 17)\n"
          ],
          "name": "stdout"
        }
      ]
    },
    {
      "cell_type": "code",
      "metadata": {
        "colab": {
          "base_uri": "https://localhost:8080/"
        },
        "id": "toH2Ifj7ly_l",
        "outputId": "691cc8cb-f06f-4dd1-99ad-21cc52e0033e"
      },
      "source": [
        "y_test=to_categorical(y_test)\n",
        "print(y_test.shape)"
      ],
      "execution_count": 22,
      "outputs": [
        {
          "output_type": "stream",
          "text": [
            "(1069, 70, 17)\n"
          ],
          "name": "stdout"
        }
      ]
    },
    {
      "cell_type": "code",
      "metadata": {
        "id": "zTXJC7Orl7W9"
      },
      "source": [
        "y_test=np.array(y_test)\n",
        "y_train=np.array(y_train)"
      ],
      "execution_count": 23,
      "outputs": []
    },
    {
      "cell_type": "code",
      "metadata": {
        "id": "JE29ldkomHxy"
      },
      "source": [
        "from keras import Model,Input\n",
        "from keras.layers import LSTM,Dense,Embedding,SpatialDropout1D,Bidirectional,TimeDistributed"
      ],
      "execution_count": 24,
      "outputs": []
    },
    {
      "cell_type": "code",
      "metadata": {
        "id": "_uAsZ5bcmt66"
      },
      "source": [
        "input=Input(shape=(70))\n",
        "model=Embedding(input_dim=n_words,output_dim=70,input_length=140)(input)\n",
        "model=SpatialDropout1D(0.25)(model)\n",
        "model=Bidirectional(LSTM(200,activation='relu',return_sequences=True,recurrent_dropout=0.1))(model)\n",
        "output=TimeDistributed(Dense(n_tags,activation='softmax'))(model)\n",
        "model=Model(input,output)"
      ],
      "execution_count": 25,
      "outputs": []
    },
    {
      "cell_type": "code",
      "metadata": {
        "id": "FtMl5hwLn9Tm"
      },
      "source": [
        "model.compile(optimizer='adam',metrics='accuracy',loss='categorical_crossentropy')"
      ],
      "execution_count": 26,
      "outputs": []
    },
    {
      "cell_type": "code",
      "metadata": {
        "colab": {
          "base_uri": "https://localhost:8080/"
        },
        "id": "kpYKxnPyoJY5",
        "outputId": "1f722315-88ac-41b3-9a5a-3bda0f780ed8"
      },
      "source": [
        "model.fit(X_train,y_train,batch_size=64,epochs=100,validation_data=(X_test,y_test))"
      ],
      "execution_count": 27,
      "outputs": [
        {
          "output_type": "stream",
          "text": [
            "Epoch 1/100\n",
            "39/39 [==============================] - 41s 921ms/step - loss: 2.0757 - accuracy: 0.6722 - val_loss: 0.4633 - val_accuracy: 0.8949\n",
            "Epoch 2/100\n",
            "39/39 [==============================] - 35s 904ms/step - loss: 0.4177 - accuracy: 0.9079 - val_loss: 0.3505 - val_accuracy: 0.9147\n",
            "Epoch 3/100\n",
            "39/39 [==============================] - 35s 907ms/step - loss: 0.3215 - accuracy: 0.9248 - val_loss: 0.3059 - val_accuracy: 0.9305\n",
            "Epoch 4/100\n",
            "39/39 [==============================] - 35s 906ms/step - loss: 0.2794 - accuracy: 0.9382 - val_loss: 0.2857 - val_accuracy: 0.9393\n",
            "Epoch 5/100\n",
            "39/39 [==============================] - 35s 907ms/step - loss: 0.2519 - accuracy: 0.9466 - val_loss: 0.2605 - val_accuracy: 0.9478\n",
            "Epoch 6/100\n",
            "39/39 [==============================] - 35s 905ms/step - loss: 0.2208 - accuracy: 0.9519 - val_loss: 0.2062 - val_accuracy: 0.9506\n",
            "Epoch 7/100\n",
            "39/39 [==============================] - 35s 908ms/step - loss: 0.1645 - accuracy: 0.9558 - val_loss: 0.1428 - val_accuracy: 0.9606\n",
            "Epoch 8/100\n",
            "39/39 [==============================] - 35s 903ms/step - loss: 0.1201 - accuracy: 0.9637 - val_loss: 0.1281 - val_accuracy: 0.9638\n",
            "Epoch 9/100\n",
            "39/39 [==============================] - 35s 904ms/step - loss: 0.1018 - accuracy: 0.9681 - val_loss: 0.1197 - val_accuracy: 0.9656\n",
            "Epoch 10/100\n",
            "39/39 [==============================] - 35s 904ms/step - loss: 0.0983 - accuracy: 0.9689 - val_loss: 0.1219 - val_accuracy: 0.9681\n",
            "Epoch 11/100\n",
            "39/39 [==============================] - 35s 907ms/step - loss: 0.0886 - accuracy: 0.9720 - val_loss: 0.1226 - val_accuracy: 0.9699\n",
            "Epoch 12/100\n",
            "39/39 [==============================] - 35s 904ms/step - loss: 0.0820 - accuracy: 0.9744 - val_loss: 0.1151 - val_accuracy: 0.9710\n",
            "Epoch 13/100\n",
            "39/39 [==============================] - 35s 905ms/step - loss: 0.0759 - accuracy: 0.9764 - val_loss: 0.1127 - val_accuracy: 0.9729\n",
            "Epoch 14/100\n",
            "39/39 [==============================] - 35s 906ms/step - loss: 0.0711 - accuracy: 0.9785 - val_loss: 0.1128 - val_accuracy: 0.9731\n",
            "Epoch 15/100\n",
            "39/39 [==============================] - 35s 907ms/step - loss: 0.0682 - accuracy: 0.9801 - val_loss: 0.1094 - val_accuracy: 0.9755\n",
            "Epoch 16/100\n",
            "39/39 [==============================] - 35s 902ms/step - loss: 0.0616 - accuracy: 0.9835 - val_loss: 0.1095 - val_accuracy: 0.9765\n",
            "Epoch 17/100\n",
            "39/39 [==============================] - 35s 903ms/step - loss: 0.0568 - accuracy: 0.9841 - val_loss: 0.1089 - val_accuracy: 0.9760\n",
            "Epoch 18/100\n",
            "39/39 [==============================] - 35s 904ms/step - loss: 0.0659 - accuracy: 0.9832 - val_loss: 0.1162 - val_accuracy: 0.9776\n",
            "Epoch 19/100\n",
            "39/39 [==============================] - 35s 907ms/step - loss: 0.0537 - accuracy: 0.9852 - val_loss: 0.1051 - val_accuracy: 0.9780\n",
            "Epoch 20/100\n",
            "39/39 [==============================] - 35s 902ms/step - loss: 0.0467 - accuracy: 0.9876 - val_loss: 0.1035 - val_accuracy: 0.9795\n",
            "Epoch 21/100\n",
            "39/39 [==============================] - 35s 906ms/step - loss: 0.0405 - accuracy: 0.9886 - val_loss: 0.1037 - val_accuracy: 0.9798\n",
            "Epoch 22/100\n",
            "39/39 [==============================] - 35s 900ms/step - loss: 0.0419 - accuracy: 0.9889 - val_loss: 0.0993 - val_accuracy: 0.9788\n",
            "Epoch 23/100\n",
            "39/39 [==============================] - 35s 910ms/step - loss: 0.0365 - accuracy: 0.9898 - val_loss: 0.1073 - val_accuracy: 0.9800\n",
            "Epoch 24/100\n",
            "39/39 [==============================] - 35s 908ms/step - loss: 0.0336 - accuracy: 0.9905 - val_loss: 0.1007 - val_accuracy: 0.9797\n",
            "Epoch 25/100\n",
            "39/39 [==============================] - 35s 909ms/step - loss: 0.0305 - accuracy: 0.9910 - val_loss: 0.0998 - val_accuracy: 0.9805\n",
            "Epoch 26/100\n",
            "39/39 [==============================] - 35s 912ms/step - loss: 0.0289 - accuracy: 0.9917 - val_loss: 0.1006 - val_accuracy: 0.9807\n",
            "Epoch 27/100\n",
            "39/39 [==============================] - 35s 910ms/step - loss: 0.0277 - accuracy: 0.9917 - val_loss: 0.1056 - val_accuracy: 0.9808\n",
            "Epoch 28/100\n",
            "39/39 [==============================] - 35s 908ms/step - loss: 0.0261 - accuracy: 0.9923 - val_loss: 0.0938 - val_accuracy: 0.9808\n",
            "Epoch 29/100\n",
            "39/39 [==============================] - 35s 907ms/step - loss: 0.0241 - accuracy: 0.9927 - val_loss: 0.1089 - val_accuracy: 0.9810\n",
            "Epoch 30/100\n",
            "39/39 [==============================] - 35s 909ms/step - loss: 0.0223 - accuracy: 0.9934 - val_loss: 0.1010 - val_accuracy: 0.9807\n",
            "Epoch 31/100\n",
            "39/39 [==============================] - 35s 903ms/step - loss: 0.0217 - accuracy: 0.9934 - val_loss: 0.0939 - val_accuracy: 0.9802\n",
            "Epoch 32/100\n",
            "39/39 [==============================] - 35s 908ms/step - loss: 0.0222 - accuracy: 0.9932 - val_loss: 0.0958 - val_accuracy: 0.9809\n",
            "Epoch 33/100\n",
            "39/39 [==============================] - 35s 900ms/step - loss: 0.0200 - accuracy: 0.9939 - val_loss: 0.1005 - val_accuracy: 0.9815\n",
            "Epoch 34/100\n",
            "39/39 [==============================] - 35s 904ms/step - loss: 0.0198 - accuracy: 0.9936 - val_loss: 0.0969 - val_accuracy: 0.9806\n",
            "Epoch 35/100\n",
            "39/39 [==============================] - 35s 904ms/step - loss: 0.0181 - accuracy: 0.9944 - val_loss: 0.1017 - val_accuracy: 0.9812\n",
            "Epoch 36/100\n",
            "39/39 [==============================] - 35s 904ms/step - loss: 0.0186 - accuracy: 0.9942 - val_loss: 0.1093 - val_accuracy: 0.9810\n",
            "Epoch 37/100\n",
            "39/39 [==============================] - 35s 903ms/step - loss: 0.0156 - accuracy: 0.9950 - val_loss: 0.0989 - val_accuracy: 0.9808\n",
            "Epoch 38/100\n",
            "39/39 [==============================] - 35s 902ms/step - loss: 0.0161 - accuracy: 0.9953 - val_loss: 0.1181 - val_accuracy: 0.9812\n",
            "Epoch 39/100\n",
            "39/39 [==============================] - 35s 904ms/step - loss: 0.0634 - accuracy: 0.9911 - val_loss: 0.1079 - val_accuracy: 0.9782\n",
            "Epoch 40/100\n",
            "39/39 [==============================] - 35s 899ms/step - loss: 0.0392 - accuracy: 0.9894 - val_loss: 0.0792 - val_accuracy: 0.9813\n",
            "Epoch 41/100\n",
            "39/39 [==============================] - 35s 901ms/step - loss: 0.0281 - accuracy: 0.9919 - val_loss: 0.0923 - val_accuracy: 0.9809\n",
            "Epoch 42/100\n",
            "39/39 [==============================] - 35s 904ms/step - loss: 0.0227 - accuracy: 0.9936 - val_loss: 0.0919 - val_accuracy: 0.9804\n",
            "Epoch 43/100\n",
            "39/39 [==============================] - 35s 906ms/step - loss: 0.0186 - accuracy: 0.9944 - val_loss: 0.0920 - val_accuracy: 0.9806\n",
            "Epoch 44/100\n",
            "39/39 [==============================] - 35s 906ms/step - loss: 0.0184 - accuracy: 0.9942 - val_loss: 0.0911 - val_accuracy: 0.9813\n",
            "Epoch 45/100\n",
            "39/39 [==============================] - 35s 906ms/step - loss: 0.0156 - accuracy: 0.9950 - val_loss: 0.0941 - val_accuracy: 0.9800\n",
            "Epoch 46/100\n",
            "39/39 [==============================] - 35s 903ms/step - loss: 0.0153 - accuracy: 0.9951 - val_loss: 0.0972 - val_accuracy: 0.9809\n",
            "Epoch 47/100\n",
            "39/39 [==============================] - 35s 904ms/step - loss: 0.0143 - accuracy: 0.9955 - val_loss: 0.0986 - val_accuracy: 0.9809\n",
            "Epoch 48/100\n",
            "39/39 [==============================] - 35s 904ms/step - loss: 0.0143 - accuracy: 0.9954 - val_loss: 0.0967 - val_accuracy: 0.9813\n",
            "Epoch 49/100\n",
            "39/39 [==============================] - 35s 901ms/step - loss: 0.0134 - accuracy: 0.9957 - val_loss: 0.0940 - val_accuracy: 0.9810\n",
            "Epoch 50/100\n",
            "39/39 [==============================] - 35s 902ms/step - loss: 0.0125 - accuracy: 0.9960 - val_loss: 0.0958 - val_accuracy: 0.9803\n",
            "Epoch 51/100\n",
            "39/39 [==============================] - 35s 904ms/step - loss: 0.0114 - accuracy: 0.9963 - val_loss: 0.1007 - val_accuracy: 0.9809\n",
            "Epoch 52/100\n",
            "39/39 [==============================] - 35s 908ms/step - loss: 0.0107 - accuracy: 0.9966 - val_loss: 0.1086 - val_accuracy: 0.9808\n",
            "Epoch 53/100\n",
            "39/39 [==============================] - 35s 903ms/step - loss: 0.0118 - accuracy: 0.9966 - val_loss: 0.1108 - val_accuracy: 0.9810\n",
            "Epoch 54/100\n",
            "39/39 [==============================] - 35s 904ms/step - loss: 0.0109 - accuracy: 0.9965 - val_loss: 0.1060 - val_accuracy: 0.9800\n",
            "Epoch 55/100\n",
            "39/39 [==============================] - 35s 903ms/step - loss: 0.0106 - accuracy: 0.9965 - val_loss: 0.1063 - val_accuracy: 0.9812\n",
            "Epoch 56/100\n",
            "39/39 [==============================] - 35s 902ms/step - loss: 0.0096 - accuracy: 0.9968 - val_loss: 0.1140 - val_accuracy: 0.9807\n",
            "Epoch 57/100\n",
            "39/39 [==============================] - 35s 906ms/step - loss: 0.0090 - accuracy: 0.9971 - val_loss: 0.1091 - val_accuracy: 0.9810\n",
            "Epoch 58/100\n",
            "39/39 [==============================] - 35s 908ms/step - loss: 0.0077 - accuracy: 0.9976 - val_loss: 0.1071 - val_accuracy: 0.9804\n",
            "Epoch 59/100\n",
            "39/39 [==============================] - 35s 906ms/step - loss: 0.0091 - accuracy: 0.9970 - val_loss: 0.1146 - val_accuracy: 0.9808\n",
            "Epoch 60/100\n",
            "39/39 [==============================] - 35s 901ms/step - loss: 0.0087 - accuracy: 0.9972 - val_loss: 0.1249 - val_accuracy: 0.9808\n",
            "Epoch 61/100\n",
            "39/39 [==============================] - 35s 901ms/step - loss: 0.0072 - accuracy: 0.9976 - val_loss: 0.1134 - val_accuracy: 0.9808\n",
            "Epoch 62/100\n",
            "39/39 [==============================] - 35s 907ms/step - loss: 0.0079 - accuracy: 0.9974 - val_loss: 0.1189 - val_accuracy: 0.9809\n",
            "Epoch 63/100\n",
            "39/39 [==============================] - 35s 905ms/step - loss: 0.0067 - accuracy: 0.9979 - val_loss: 0.1185 - val_accuracy: 0.9803\n",
            "Epoch 64/100\n",
            "39/39 [==============================] - 35s 906ms/step - loss: 0.0071 - accuracy: 0.9977 - val_loss: 0.1204 - val_accuracy: 0.9806\n",
            "Epoch 65/100\n",
            "39/39 [==============================] - 35s 904ms/step - loss: 0.0071 - accuracy: 0.9979 - val_loss: 0.1242 - val_accuracy: 0.9804\n",
            "Epoch 66/100\n",
            "39/39 [==============================] - 35s 902ms/step - loss: 0.0066 - accuracy: 0.9978 - val_loss: 0.1191 - val_accuracy: 0.9807\n",
            "Epoch 67/100\n",
            "39/39 [==============================] - 35s 904ms/step - loss: 0.0058 - accuracy: 0.9983 - val_loss: 0.1221 - val_accuracy: 0.9805\n",
            "Epoch 68/100\n",
            "39/39 [==============================] - 35s 905ms/step - loss: 0.0278 - accuracy: 0.9963 - val_loss: 0.1919 - val_accuracy: 0.9785\n",
            "Epoch 69/100\n",
            "39/39 [==============================] - 35s 904ms/step - loss: 0.8505 - accuracy: 0.9438 - val_loss: 0.1154 - val_accuracy: 0.9805\n",
            "Epoch 70/100\n",
            "39/39 [==============================] - 35s 908ms/step - loss: 0.0096 - accuracy: 0.9971 - val_loss: 0.1095 - val_accuracy: 0.9809\n",
            "Epoch 71/100\n",
            "39/39 [==============================] - 35s 905ms/step - loss: 0.0114 - accuracy: 0.9971 - val_loss: 0.1220 - val_accuracy: 0.9808\n",
            "Epoch 72/100\n",
            "39/39 [==============================] - 35s 906ms/step - loss: 0.0076 - accuracy: 0.9976 - val_loss: 0.1221 - val_accuracy: 0.9808\n",
            "Epoch 73/100\n",
            "39/39 [==============================] - 35s 902ms/step - loss: 1.0084 - accuracy: 0.9355 - val_loss: 0.9398 - val_accuracy: 0.9302\n",
            "Epoch 74/100\n",
            "39/39 [==============================] - 35s 898ms/step - loss: 0.2481 - accuracy: 0.9827 - val_loss: 0.1044 - val_accuracy: 0.9810\n",
            "Epoch 75/100\n",
            "39/39 [==============================] - 35s 901ms/step - loss: 0.0096 - accuracy: 0.9975 - val_loss: 0.1074 - val_accuracy: 0.9811\n",
            "Epoch 76/100\n",
            "39/39 [==============================] - 35s 905ms/step - loss: 0.0095 - accuracy: 0.9976 - val_loss: 0.1177 - val_accuracy: 0.9812\n",
            "Epoch 77/100\n",
            "39/39 [==============================] - 35s 908ms/step - loss: 0.0079 - accuracy: 0.9978 - val_loss: 0.1161 - val_accuracy: 0.9808\n",
            "Epoch 78/100\n",
            "39/39 [==============================] - 35s 903ms/step - loss: 0.0094 - accuracy: 0.9976 - val_loss: 0.1190 - val_accuracy: 0.9808\n",
            "Epoch 79/100\n",
            "39/39 [==============================] - 35s 906ms/step - loss: 0.0094 - accuracy: 0.9976 - val_loss: 0.1234 - val_accuracy: 0.9804\n",
            "Epoch 80/100\n",
            "39/39 [==============================] - 35s 900ms/step - loss: 0.0186 - accuracy: 0.9972 - val_loss: 0.1179 - val_accuracy: 0.9803\n",
            "Epoch 81/100\n",
            "39/39 [==============================] - 35s 903ms/step - loss: 0.0167 - accuracy: 0.9975 - val_loss: 0.1213 - val_accuracy: 0.9805\n",
            "Epoch 82/100\n",
            "39/39 [==============================] - 35s 901ms/step - loss: 0.0061 - accuracy: 0.9980 - val_loss: 0.1271 - val_accuracy: 0.9801\n",
            "Epoch 83/100\n",
            "39/39 [==============================] - 35s 907ms/step - loss: 0.0058 - accuracy: 0.9980 - val_loss: 0.1297 - val_accuracy: 0.9808\n",
            "Epoch 84/100\n",
            "39/39 [==============================] - 35s 902ms/step - loss: 0.0053 - accuracy: 0.9983 - val_loss: 0.1179 - val_accuracy: 0.9806\n",
            "Epoch 85/100\n",
            "39/39 [==============================] - 35s 905ms/step - loss: 0.0052 - accuracy: 0.9983 - val_loss: 0.1234 - val_accuracy: 0.9800\n",
            "Epoch 86/100\n",
            "39/39 [==============================] - 35s 909ms/step - loss: 0.0056 - accuracy: 0.9981 - val_loss: 0.1315 - val_accuracy: 0.9805\n",
            "Epoch 87/100\n",
            "39/39 [==============================] - 36s 912ms/step - loss: 0.0480 - accuracy: 0.9958 - val_loss: 0.1246 - val_accuracy: 0.9800\n",
            "Epoch 88/100\n",
            "39/39 [==============================] - 36s 913ms/step - loss: 0.0116 - accuracy: 0.9981 - val_loss: 0.1267 - val_accuracy: 0.9803\n",
            "Epoch 89/100\n",
            "39/39 [==============================] - 35s 909ms/step - loss: 0.0046 - accuracy: 0.9986 - val_loss: 0.1340 - val_accuracy: 0.9807\n",
            "Epoch 90/100\n",
            "39/39 [==============================] - 35s 910ms/step - loss: 0.0053 - accuracy: 0.9983 - val_loss: 0.1223 - val_accuracy: 0.9801\n",
            "Epoch 91/100\n",
            "39/39 [==============================] - 36s 911ms/step - loss: 0.0064 - accuracy: 0.9983 - val_loss: 0.1258 - val_accuracy: 0.9804\n",
            "Epoch 92/100\n",
            "39/39 [==============================] - 35s 906ms/step - loss: 0.0053 - accuracy: 0.9985 - val_loss: 0.1271 - val_accuracy: 0.9808\n",
            "Epoch 93/100\n",
            "39/39 [==============================] - 35s 907ms/step - loss: 0.0057 - accuracy: 0.9986 - val_loss: 0.1376 - val_accuracy: 0.9802\n",
            "Epoch 94/100\n",
            "39/39 [==============================] - 35s 904ms/step - loss: 0.0048 - accuracy: 0.9985 - val_loss: 0.1283 - val_accuracy: 0.9808\n",
            "Epoch 95/100\n",
            "39/39 [==============================] - 35s 903ms/step - loss: 0.0053 - accuracy: 0.9988 - val_loss: 0.1315 - val_accuracy: 0.9808\n",
            "Epoch 96/100\n",
            "39/39 [==============================] - 35s 909ms/step - loss: 0.0052 - accuracy: 0.9988 - val_loss: 0.1388 - val_accuracy: 0.9802\n",
            "Epoch 97/100\n",
            "39/39 [==============================] - 35s 903ms/step - loss: 0.0049 - accuracy: 0.9988 - val_loss: 0.1269 - val_accuracy: 0.9810\n",
            "Epoch 98/100\n",
            "39/39 [==============================] - 35s 907ms/step - loss: 0.0057 - accuracy: 0.9988 - val_loss: 0.1381 - val_accuracy: 0.9806\n",
            "Epoch 99/100\n",
            "39/39 [==============================] - 35s 906ms/step - loss: 0.0062 - accuracy: 0.9987 - val_loss: 0.1356 - val_accuracy: 0.9802\n",
            "Epoch 100/100\n",
            "39/39 [==============================] - 35s 908ms/step - loss: 0.0070 - accuracy: 0.9987 - val_loss: 0.1368 - val_accuracy: 0.9809\n"
          ],
          "name": "stdout"
        },
        {
          "output_type": "execute_result",
          "data": {
            "text/plain": [
              "<tensorflow.python.keras.callbacks.History at 0x7faccdae4110>"
            ]
          },
          "metadata": {
            "tags": []
          },
          "execution_count": 27
        }
      ]
    },
    {
      "cell_type": "markdown",
      "metadata": {
        "id": "7Uz7i6a62KQo"
      },
      "source": [
        "#lets predict"
      ]
    },
    {
      "cell_type": "code",
      "metadata": {
        "colab": {
          "base_uri": "https://localhost:8080/"
        },
        "id": "s6KqbEgdoPqV",
        "outputId": "b6aa5785-0194-4f7d-9436-30ba658c92e1"
      },
      "source": [
        "i=np.random.randint(0,X_test.shape[0])\n",
        "p=model.predict(np.array([X_test[i]]))\n",
        "p=np.argmax(p,axis=-1)\n",
        "y_true=np.argmax(np.array(y_test),axis=-1)[i]\n",
        "print(\"{:15} ({:5}): {}\".format('Word',\"True\",'PREDICTED BY OUR MODEL'))\n",
        "print(\"__\"*20)\n",
        "for w ,true,pred in zip(X_test[i],y_true,p[0]):\n",
        "  print(\"{:15}{}\\t {}\".format(words[w-1],tags[true],tags[pred]))"
      ],
      "execution_count": 33,
      "outputs": [
        {
          "output_type": "stream",
          "text": [
            "Word            (True ): PREDICTED BY OUR MODEL\n",
            "________________________________________\n",
            "refugees       I-geo\t I-geo\n",
            "refugees       I-geo\t I-geo\n",
            "refugees       I-geo\t I-geo\n",
            "refugees       I-geo\t I-geo\n",
            "refugees       I-geo\t I-geo\n",
            "refugees       I-geo\t I-geo\n",
            "refugees       I-geo\t I-geo\n",
            "refugees       I-geo\t I-geo\n",
            "refugees       I-geo\t I-geo\n",
            "refugees       I-geo\t I-geo\n",
            "refugees       I-geo\t I-geo\n",
            "refugees       I-geo\t I-geo\n",
            "refugees       I-geo\t I-geo\n",
            "refugees       I-geo\t I-geo\n",
            "refugees       I-geo\t I-geo\n",
            "refugees       I-geo\t I-geo\n",
            "refugees       I-geo\t I-geo\n",
            "refugees       I-geo\t I-geo\n",
            "refugees       I-geo\t I-geo\n",
            "refugees       I-geo\t I-geo\n",
            "refugees       I-geo\t I-geo\n",
            "refugees       I-geo\t I-geo\n",
            "refugees       I-geo\t I-geo\n",
            "refugees       I-geo\t I-geo\n",
            "refugees       I-geo\t I-geo\n",
            "refugees       I-geo\t I-geo\n",
            "refugees       I-geo\t I-geo\n",
            "refugees       I-geo\t I-geo\n",
            "refugees       I-geo\t I-geo\n",
            "refugees       I-geo\t I-geo\n",
            "refugees       I-geo\t I-geo\n",
            "refugees       I-geo\t I-geo\n",
            "refugees       I-geo\t I-geo\n",
            "refugees       I-geo\t I-geo\n",
            "refugees       I-geo\t I-geo\n",
            "refugees       I-geo\t I-geo\n",
            "refugees       I-geo\t I-geo\n",
            "refugees       I-geo\t I-geo\n",
            "refugees       I-geo\t I-geo\n",
            "refugees       I-geo\t I-geo\n",
            "refugees       I-geo\t I-geo\n",
            "refugees       I-geo\t I-geo\n",
            "refugees       I-geo\t I-geo\n",
            "refugees       I-geo\t I-geo\n",
            "refugees       I-geo\t I-geo\n",
            "refugees       I-geo\t I-geo\n",
            "refugees       I-geo\t I-geo\n",
            "refugees       I-geo\t I-geo\n",
            "refugees       I-geo\t I-geo\n",
            "refugees       I-geo\t I-geo\n",
            "refugees       I-geo\t I-geo\n",
            "refugees       I-geo\t I-geo\n",
            "refugees       I-geo\t I-geo\n",
            "refugees       I-geo\t I-geo\n",
            "refugees       I-geo\t I-geo\n",
            "refugees       I-geo\t I-geo\n",
            "refugees       I-geo\t I-geo\n",
            "refugees       I-geo\t I-geo\n",
            "refugees       I-geo\t I-geo\n",
            "refugees       I-geo\t I-geo\n",
            "residents      O\t O\n",
            "taping         O\t O\n",
            "Kazakhstan     O\t O\n",
            "inked          O\t O\n",
            "Scheduled      O\t O\n",
            "Brazilian      O\t O\n",
            "Blantyre       O\t O\n",
            "outcome        O\t O\n",
            "Besigye        B-geo\t B-geo\n",
            "elephant       O\t O\n"
          ],
          "name": "stdout"
        }
      ]
    }
  ]
}